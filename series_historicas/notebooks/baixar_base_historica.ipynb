{
 "cells": [
  {
   "cell_type": "markdown",
   "metadata": {},
   "source": [
    "# Objetivo: fazer o download dos dados históricos de todos os anos na B3\n",
    "\n",
    "Atualmente estão disponíveis os dados de 1986 a 2024\n",
    "\n",
    "Link dos dados históricos: https://www.b3.com.br/pt_br/market-data-e-indices/servicos-de-dados/market-data/historico/mercado-a-vista/series-historicas/"
   ]
  },
  {
   "cell_type": "markdown",
   "metadata": {},
   "source": [
    "### Importa bibliotecas"
   ]
  },
  {
   "cell_type": "code",
   "execution_count": 6,
   "metadata": {},
   "outputs": [],
   "source": [
    "import requests"
   ]
  },
  {
   "cell_type": "markdown",
   "metadata": {},
   "source": [
    "### Define as variáveis de entrada"
   ]
  },
  {
   "cell_type": "code",
   "execution_count": 7,
   "metadata": {},
   "outputs": [],
   "source": [
    "url_base = \"https://bvmf.bmfbovespa.com.br/InstDados/SerHist/\"\n",
    "local_dir_arquivo = 'C:/repos/b3/series_historicas/dados/avaliar/' "
   ]
  },
  {
   "cell_type": "markdown",
   "metadata": {},
   "source": [
    "### Cria função para baixar o arquivo localmente"
   ]
  },
  {
   "cell_type": "code",
   "execution_count": 8,
   "metadata": {},
   "outputs": [],
   "source": [
    "def download_arquivo(url, nome_arquivo_local):\n",
    "    \"\"\"\n",
    "    Faz o download de um arquivo de uma URL e o salva localmente.\n",
    "\n",
    "    Parametros:\n",
    "    1) url: URL do arquivo a ser baixado.\n",
    "    2) nome_arquivo_local: Nome do arquivo local onde o conteúdo será salvo.\n",
    "    \"\"\"\n",
    "    \n",
    "    # Envia uma requisição HTTP GET para a URL\n",
    "    resposta = requests.get(url)\n",
    "    \n",
    "    # Verifica se a requisição foi bem-sucedida\n",
    "    if resposta.status_code == 200:\n",
    "        # Abre o arquivo local em modo de escrita binária\n",
    "        with open(nome_arquivo_local, 'wb') as arquivo:\n",
    "            # Escreve o conteúdo da resposta no arquivo\n",
    "            arquivo.write(resposta.content)\n",
    "        print(f\"Arquivo '{nome_arquivo_local}' baixado com sucesso!\")\n",
    "    else:\n",
    "        print(f\"Erro ao baixar o arquivo. Status Code: {resposta.status_code}\")"
   ]
  },
  {
   "cell_type": "markdown",
   "metadata": {},
   "source": [
    "### Cria função que faz um loop nos anos informados e faz o download"
   ]
  },
  {
   "cell_type": "code",
   "execution_count": 9,
   "metadata": {},
   "outputs": [],
   "source": [
    "def download_serie_historica(ano_inicial, ano_final, url_base, local_dir_arquivo):\n",
    "    \"\"\"\n",
    "    Faz o download das series historicas usando os anos informados\n",
    "\n",
    "    Parametros:\n",
    "    1) ano_inicial: ano inicial\n",
    "    2) ano_final: ano final\n",
    "    3) url_base: url base\n",
    "    4) local_dir_arquivo: nome do diretório local onde o arquivo será armazenado\n",
    "    \"\"\"\n",
    "    for ano in range(ano_inicial,ano_final+1):\n",
    "\n",
    "        nome_arquivo = 'COTAHIST_A' + str(ano) + '.ZIP'\n",
    "        \n",
    "        url_nome_arquivo = url_base + nome_arquivo\n",
    "\n",
    "        local_nome_arquivo = local_dir_arquivo + nome_arquivo\n",
    "        \n",
    "        download_arquivo(url_nome_arquivo, local_nome_arquivo)"
   ]
  },
  {
   "cell_type": "code",
   "execution_count": 10,
   "metadata": {},
   "outputs": [
    {
     "name": "stdout",
     "output_type": "stream",
     "text": [
      "Arquivo 'C:/repos/b3/series_historicas/dados/avaliar/COTAHIST_A1986.ZIP' baixado com sucesso!\n",
      "Arquivo 'C:/repos/b3/series_historicas/dados/avaliar/COTAHIST_A1987.ZIP' baixado com sucesso!\n",
      "Arquivo 'C:/repos/b3/series_historicas/dados/avaliar/COTAHIST_A1988.ZIP' baixado com sucesso!\n",
      "Arquivo 'C:/repos/b3/series_historicas/dados/avaliar/COTAHIST_A1989.ZIP' baixado com sucesso!\n",
      "Arquivo 'C:/repos/b3/series_historicas/dados/avaliar/COTAHIST_A1990.ZIP' baixado com sucesso!\n",
      "Arquivo 'C:/repos/b3/series_historicas/dados/avaliar/COTAHIST_A1991.ZIP' baixado com sucesso!\n",
      "Arquivo 'C:/repos/b3/series_historicas/dados/avaliar/COTAHIST_A1992.ZIP' baixado com sucesso!\n",
      "Arquivo 'C:/repos/b3/series_historicas/dados/avaliar/COTAHIST_A1993.ZIP' baixado com sucesso!\n",
      "Arquivo 'C:/repos/b3/series_historicas/dados/avaliar/COTAHIST_A1994.ZIP' baixado com sucesso!\n",
      "Arquivo 'C:/repos/b3/series_historicas/dados/avaliar/COTAHIST_A1995.ZIP' baixado com sucesso!\n",
      "Arquivo 'C:/repos/b3/series_historicas/dados/avaliar/COTAHIST_A1996.ZIP' baixado com sucesso!\n",
      "Arquivo 'C:/repos/b3/series_historicas/dados/avaliar/COTAHIST_A1997.ZIP' baixado com sucesso!\n",
      "Arquivo 'C:/repos/b3/series_historicas/dados/avaliar/COTAHIST_A1998.ZIP' baixado com sucesso!\n",
      "Arquivo 'C:/repos/b3/series_historicas/dados/avaliar/COTAHIST_A1999.ZIP' baixado com sucesso!\n",
      "Arquivo 'C:/repos/b3/series_historicas/dados/avaliar/COTAHIST_A2000.ZIP' baixado com sucesso!\n",
      "Arquivo 'C:/repos/b3/series_historicas/dados/avaliar/COTAHIST_A2001.ZIP' baixado com sucesso!\n",
      "Arquivo 'C:/repos/b3/series_historicas/dados/avaliar/COTAHIST_A2002.ZIP' baixado com sucesso!\n",
      "Arquivo 'C:/repos/b3/series_historicas/dados/avaliar/COTAHIST_A2003.ZIP' baixado com sucesso!\n",
      "Arquivo 'C:/repos/b3/series_historicas/dados/avaliar/COTAHIST_A2004.ZIP' baixado com sucesso!\n",
      "Arquivo 'C:/repos/b3/series_historicas/dados/avaliar/COTAHIST_A2005.ZIP' baixado com sucesso!\n",
      "Arquivo 'C:/repos/b3/series_historicas/dados/avaliar/COTAHIST_A2006.ZIP' baixado com sucesso!\n",
      "Arquivo 'C:/repos/b3/series_historicas/dados/avaliar/COTAHIST_A2007.ZIP' baixado com sucesso!\n",
      "Arquivo 'C:/repos/b3/series_historicas/dados/avaliar/COTAHIST_A2008.ZIP' baixado com sucesso!\n",
      "Arquivo 'C:/repos/b3/series_historicas/dados/avaliar/COTAHIST_A2009.ZIP' baixado com sucesso!\n",
      "Arquivo 'C:/repos/b3/series_historicas/dados/avaliar/COTAHIST_A2010.ZIP' baixado com sucesso!\n",
      "Arquivo 'C:/repos/b3/series_historicas/dados/avaliar/COTAHIST_A2011.ZIP' baixado com sucesso!\n",
      "Arquivo 'C:/repos/b3/series_historicas/dados/avaliar/COTAHIST_A2012.ZIP' baixado com sucesso!\n",
      "Arquivo 'C:/repos/b3/series_historicas/dados/avaliar/COTAHIST_A2013.ZIP' baixado com sucesso!\n",
      "Arquivo 'C:/repos/b3/series_historicas/dados/avaliar/COTAHIST_A2014.ZIP' baixado com sucesso!\n",
      "Arquivo 'C:/repos/b3/series_historicas/dados/avaliar/COTAHIST_A2015.ZIP' baixado com sucesso!\n",
      "Arquivo 'C:/repos/b3/series_historicas/dados/avaliar/COTAHIST_A2016.ZIP' baixado com sucesso!\n",
      "Arquivo 'C:/repos/b3/series_historicas/dados/avaliar/COTAHIST_A2017.ZIP' baixado com sucesso!\n",
      "Arquivo 'C:/repos/b3/series_historicas/dados/avaliar/COTAHIST_A2018.ZIP' baixado com sucesso!\n",
      "Arquivo 'C:/repos/b3/series_historicas/dados/avaliar/COTAHIST_A2019.ZIP' baixado com sucesso!\n",
      "Arquivo 'C:/repos/b3/series_historicas/dados/avaliar/COTAHIST_A2020.ZIP' baixado com sucesso!\n",
      "Arquivo 'C:/repos/b3/series_historicas/dados/avaliar/COTAHIST_A2021.ZIP' baixado com sucesso!\n",
      "Arquivo 'C:/repos/b3/series_historicas/dados/avaliar/COTAHIST_A2022.ZIP' baixado com sucesso!\n",
      "Arquivo 'C:/repos/b3/series_historicas/dados/avaliar/COTAHIST_A2023.ZIP' baixado com sucesso!\n",
      "Arquivo 'C:/repos/b3/series_historicas/dados/avaliar/COTAHIST_A2024.ZIP' baixado com sucesso!\n"
     ]
    }
   ],
   "source": [
    "download_serie_historica(1986,2024, url_base, local_dir_arquivo)"
   ]
  }
 ],
 "metadata": {
  "kernelspec": {
   "display_name": "envb3",
   "language": "python",
   "name": "python3"
  },
  "language_info": {
   "codemirror_mode": {
    "name": "ipython",
    "version": 3
   },
   "file_extension": ".py",
   "mimetype": "text/x-python",
   "name": "python",
   "nbconvert_exporter": "python",
   "pygments_lexer": "ipython3",
   "version": "3.9.19"
  }
 },
 "nbformat": 4,
 "nbformat_minor": 2
}
